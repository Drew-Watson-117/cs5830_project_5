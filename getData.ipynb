{
 "cells": [
  {
   "cell_type": "code",
   "execution_count": 26,
   "metadata": {},
   "outputs": [],
   "source": [
    "from musixmatch import Musixmatch\n",
    "import pandas as pd\n",
    "import numpy as np\n",
    "API_KEY = '0af4262e48632a40885bea21564b1f84'\n",
    "\n",
    "musixmatch = Musixmatch(API_KEY)"
   ]
  },
  {
   "cell_type": "code",
   "execution_count": 27,
   "metadata": {},
   "outputs": [
    {
     "name": "stdout",
     "output_type": "stream",
     "text": [
      "Lyrics Body: For a while there, it was rough\n",
      "But lately, I've been doin' better\n",
      "Than the last four cold Decembers\n",
      "I recall\n",
      "\n",
      "And I see my family every month\n",
      "I found a girl my parents love\n",
      "She'll come and stay the night\n",
      "And I think I might have it all\n",
      "\n",
      "And I thank God every day\n",
      "For the girl He sent my way\n",
      "But I know the things He gives me\n",
      "He can take away\n",
      "\n",
      "And I hold you every night\n",
      "And that's a feeling I wanna get used to\n",
      "But there's no man as terrified\n",
      "As the man who stands to lose you\n",
      "...\n",
      "\n",
      "******* This Lyrics is NOT for Commercial use *******\n",
      "Is Explicit: 0\n"
     ]
    }
   ],
   "source": [
    "chart_tracks = musixmatch.chart_tracks_get(page=1, page_size=100, f_has_lyrics=True, country='us')\n",
    "chart_tracks = chart_tracks[\"message\"][\"body\"][\"track_list\"]\n",
    "track_id = chart_tracks[0][\"track\"][\"track_id\"]\n",
    "lyrics = musixmatch.track_lyrics_get(track_id)\n",
    "print(f\"Lyrics Body: {lyrics['message']['body']['lyrics']['lyrics_body']}\")\n",
    "print(f\"Is Explicit: {lyrics['message']['body']['lyrics']['explicit']}\")\n"
   ]
  },
  {
   "cell_type": "code",
   "execution_count": 29,
   "metadata": {},
   "outputs": [],
   "source": [
    "data = pd.DataFrame()\n",
    "ids = []\n",
    "all_lyrics = []\n",
    "all_explicit = []\n",
    "for track in chart_tracks:\n",
    "    track_id = track[\"track\"][\"track_id\"]\n",
    "    # Get lyrics\n",
    "    track_lyrics = musixmatch.track_lyrics_get(track_id=track_id)\n",
    "    lyrics = track_lyrics['message']['body']['lyrics']['lyrics_body']\n",
    "    isExplicit = track_lyrics['message']['body']['lyrics']['explicit']\n",
    "    ids.append(track_id)\n",
    "    all_lyrics.append(lyrics)\n",
    "    all_explicit.append(isExplicit)\n",
    "data['id'] = np.array(ids)\n",
    "data['lyrics'] = np.array(all_lyrics)\n",
    "data['explicit'] = np.array(all_explicit)\n",
    "data.to_csv(\"data/tracks.csv\")"
   ]
  }
 ],
 "metadata": {
  "kernelspec": {
   "display_name": "Python 3",
   "language": "python",
   "name": "python3"
  },
  "language_info": {
   "codemirror_mode": {
    "name": "ipython",
    "version": 3
   },
   "file_extension": ".py",
   "mimetype": "text/x-python",
   "name": "python",
   "nbconvert_exporter": "python",
   "pygments_lexer": "ipython3",
   "version": "3.11.0"
  }
 },
 "nbformat": 4,
 "nbformat_minor": 2
}
