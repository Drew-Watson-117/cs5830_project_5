{
 "cells": [
  {
   "cell_type": "code",
   "execution_count": null,
   "metadata": {},
   "outputs": [],
   "source": [
    "import pandas as pd\n",
    "from sklearn.model_selection import train_test_split\n",
    "from sklearn.naive_bayes import MultinomialNB\n",
    "# import nltk\n",
    "import numpy as np\n",
    "from sklearn.feature_extraction.text import CountVectorizer\n",
    "from sklearn.metrics import precision_recall_fscore_support"
   ]
  },
  {
   "cell_type": "code",
   "execution_count": null,
   "metadata": {},
   "outputs": [],
   "source": [
    "tracks = pd.read_csv(\"data/tracks.csv\",index_col=0)\n",
    "tracks.dropna(inplace=True)\n",
    "tracks.reset_index(inplace=True)\n",
    "del tracks[\"index\"]\n",
    "tracks\n",
    "\n"
   ]
  },
  {
   "cell_type": "code",
   "execution_count": null,
   "metadata": {},
   "outputs": [],
   "source": [
    "X = tracks['lyrics']\n",
    "y = tracks['explicit']\n",
    "# Getting training and testing X and y\n",
    "\n",
    "# Convert text to numerical features\n",
    "vectorizer = CountVectorizer()\n",
    "Xvec = vectorizer.fit_transform(X)\n",
    "\n",
    "# Split into training and testing\n",
    "trainX, testX, trainY, testY = train_test_split(Xvec,y)\n",
    "\n",
    "# Train the classifier\n",
    "classifier = MultinomialNB()\n",
    "classifier.fit(trainX,trainY)\n",
    "\n",
    "# Predict the test data\n",
    "predictY = classifier.predict(testX)\n",
    "\n",
    "# Get metrics for classifier (precision, recall, fscore, support)\n",
    "metrics = {}\n",
    "p,r,f,s = precision_recall_fscore_support(testY,predictY)\n",
    "\n",
    "metrics[\"precision\"] = p\n",
    "metrics[\"recall\"] = r\n",
    "metrics[\"f-score\"] = f\n",
    "metrics[\"support\"] = s\n",
    "\n",
    "for metric in metrics.keys():\n",
    "    print(f\"{metric}: {metrics[metric]}\")"
   ]
  }
 ],
 "metadata": {
  "kernelspec": {
   "display_name": "Python 3",
   "language": "python",
   "name": "python3"
  },
  "language_info": {
   "codemirror_mode": {
    "name": "ipython",
    "version": 3
   },
   "file_extension": ".py",
   "mimetype": "text/x-python",
   "name": "python",
   "nbconvert_exporter": "python",
   "pygments_lexer": "ipython3",
   "version": "3.11.0"
  }
 },
 "nbformat": 4,
 "nbformat_minor": 2
}
