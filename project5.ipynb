{
 "cells": [
  {
   "cell_type": "code",
   "execution_count": 123,
   "metadata": {},
   "outputs": [],
   "source": [
    "import pandas as pd\n",
    "from sklearn.model_selection import train_test_split, KFold\n",
    "from sklearn.naive_bayes import MultinomialNB\n",
    "import nltk\n",
    "from nltk.stem import PorterStemmer\n",
    "from nltk.corpus import stopwords\n",
    "import numpy as np\n",
    "from sklearn.feature_extraction.text import CountVectorizer\n",
    "from sklearn.metrics import precision_recall_fscore_support, confusion_matrix, ConfusionMatrixDisplay"
   ]
  },
  {
   "cell_type": "markdown",
   "metadata": {},
   "source": [
    "# Naive Bayes Classifier for Determining Whether a Song is Explicit\n",
    "\n",
    "Our goal is to create a Naive Bayes Classifier model for determining whether a song is explicit given its lyrics. Our data was obtained using the Musixmatch API. \n",
    "\n",
    "We got the top chart songs from several English speaking countries. Then, we got the lyrics for each of those songs and whether the song is explicit. We then wrote that data to a .csv file."
   ]
  },
  {
   "cell_type": "markdown",
   "metadata": {},
   "source": [
    "## Data Preparation\n",
    "\n",
    "First, we read in the data. Then, we stem it and remove stop words to make things more simple for our classifier."
   ]
  },
  {
   "cell_type": "code",
   "execution_count": 124,
   "metadata": {},
   "outputs": [
    {
     "name": "stderr",
     "output_type": "stream",
     "text": [
      "[nltk_data] Downloading package stopwords to\n",
      "[nltk_data]     C:\\Users\\drewz\\AppData\\Roaming\\nltk_data...\n",
      "[nltk_data]   Package stopwords is already up-to-date!\n"
     ]
    },
    {
     "data": {
      "text/html": [
       "<div>\n",
       "<style scoped>\n",
       "    .dataframe tbody tr th:only-of-type {\n",
       "        vertical-align: middle;\n",
       "    }\n",
       "\n",
       "    .dataframe tbody tr th {\n",
       "        vertical-align: top;\n",
       "    }\n",
       "\n",
       "    .dataframe thead th {\n",
       "        text-align: right;\n",
       "    }\n",
       "</style>\n",
       "<table border=\"1\" class=\"dataframe\">\n",
       "  <thead>\n",
       "    <tr style=\"text-align: right;\">\n",
       "      <th></th>\n",
       "      <th>id</th>\n",
       "      <th>lyrics</th>\n",
       "      <th>explicit</th>\n",
       "      <th>stemmed_lyrics</th>\n",
       "    </tr>\n",
       "  </thead>\n",
       "  <tbody>\n",
       "    <tr>\n",
       "      <th>0</th>\n",
       "      <td>272451645</td>\n",
       "      <td>For a while there, it was rough\\nBut lately, I...</td>\n",
       "      <td>0</td>\n",
       "      <td>there, rough\\nbut lately, i'v doin' better\\nth...</td>\n",
       "    </tr>\n",
       "    <tr>\n",
       "      <th>1</th>\n",
       "      <td>275242628</td>\n",
       "      <td>This ain't Texas (ooh)\\nAin't no hold 'em (hey...</td>\n",
       "      <td>1</td>\n",
       "      <td>ain't texa (ooh)\\nain't hold 'em (hey)\\nso lay...</td>\n",
       "    </tr>\n",
       "    <tr>\n",
       "      <th>2</th>\n",
       "      <td>276929882</td>\n",
       "      <td>I always wake up in the deep end\\nWhy do I do ...</td>\n",
       "      <td>0</td>\n",
       "      <td>alway wake deep end\\nwhi everi weekend?\\ni gue...</td>\n",
       "    </tr>\n",
       "    <tr>\n",
       "      <th>3</th>\n",
       "      <td>258292930</td>\n",
       "      <td>Something's got a hold of me lately\\nNo, I don...</td>\n",
       "      <td>0</td>\n",
       "      <td>something' got hold lately\\nno, know anymore\\n...</td>\n",
       "    </tr>\n",
       "    <tr>\n",
       "      <th>4</th>\n",
       "      <td>277189732</td>\n",
       "      <td>I am not Republican, I am not a Liberal\\nWhy t...</td>\n",
       "      <td>1</td>\n",
       "      <td>republican, liberal\\nwhi hell can't american w...</td>\n",
       "    </tr>\n",
       "    <tr>\n",
       "      <th>...</th>\n",
       "      <td>...</td>\n",
       "      <td>...</td>\n",
       "      <td>...</td>\n",
       "      <td>...</td>\n",
       "    </tr>\n",
       "    <tr>\n",
       "      <th>392</th>\n",
       "      <td>277509246</td>\n",
       "      <td>Твоей тупизне нет предела\\nПасть лучше закрой\\...</td>\n",
       "      <td>1</td>\n",
       "      <td>твоей тупизне нет предела\\nпасть лучше закрой\\...</td>\n",
       "    </tr>\n",
       "    <tr>\n",
       "      <th>393</th>\n",
       "      <td>236196962</td>\n",
       "      <td>I can still remember me and Miss November Rain...</td>\n",
       "      <td>0</td>\n",
       "      <td>still rememb miss novemb rain\\nbeauti strange\\...</td>\n",
       "    </tr>\n",
       "    <tr>\n",
       "      <th>394</th>\n",
       "      <td>276902997</td>\n",
       "      <td>Tell me the words I've forgotten\\nWhat we were...</td>\n",
       "      <td>0</td>\n",
       "      <td>tell word i'v forgotten\\nwhat fight for\\nstar ...</td>\n",
       "    </tr>\n",
       "    <tr>\n",
       "      <th>395</th>\n",
       "      <td>261256425</td>\n",
       "      <td>I was sweet 'til you left me on my knees\\nTook...</td>\n",
       "      <td>1</td>\n",
       "      <td>sweet 'til left knees\\ntook honey, made b (bad...</td>\n",
       "    </tr>\n",
       "    <tr>\n",
       "      <th>396</th>\n",
       "      <td>258292911</td>\n",
       "      <td>My spare time and my spare key\\nDon't go to yo...</td>\n",
       "      <td>0</td>\n",
       "      <td>spare time spare key\\ndon't go front door\\nand...</td>\n",
       "    </tr>\n",
       "  </tbody>\n",
       "</table>\n",
       "<p>397 rows × 4 columns</p>\n",
       "</div>"
      ],
      "text/plain": [
       "            id                                             lyrics  explicit  \\\n",
       "0    272451645  For a while there, it was rough\\nBut lately, I...         0   \n",
       "1    275242628  This ain't Texas (ooh)\\nAin't no hold 'em (hey...         1   \n",
       "2    276929882  I always wake up in the deep end\\nWhy do I do ...         0   \n",
       "3    258292930  Something's got a hold of me lately\\nNo, I don...         0   \n",
       "4    277189732  I am not Republican, I am not a Liberal\\nWhy t...         1   \n",
       "..         ...                                                ...       ...   \n",
       "392  277509246  Твоей тупизне нет предела\\nПасть лучше закрой\\...         1   \n",
       "393  236196962  I can still remember me and Miss November Rain...         0   \n",
       "394  276902997  Tell me the words I've forgotten\\nWhat we were...         0   \n",
       "395  261256425  I was sweet 'til you left me on my knees\\nTook...         1   \n",
       "396  258292911  My spare time and my spare key\\nDon't go to yo...         0   \n",
       "\n",
       "                                        stemmed_lyrics  \n",
       "0    there, rough\\nbut lately, i'v doin' better\\nth...  \n",
       "1    ain't texa (ooh)\\nain't hold 'em (hey)\\nso lay...  \n",
       "2    alway wake deep end\\nwhi everi weekend?\\ni gue...  \n",
       "3    something' got hold lately\\nno, know anymore\\n...  \n",
       "4    republican, liberal\\nwhi hell can't american w...  \n",
       "..                                                 ...  \n",
       "392  твоей тупизне нет предела\\nпасть лучше закрой\\...  \n",
       "393  still rememb miss novemb rain\\nbeauti strange\\...  \n",
       "394  tell word i'v forgotten\\nwhat fight for\\nstar ...  \n",
       "395  sweet 'til left knees\\ntook honey, made b (bad...  \n",
       "396  spare time spare key\\ndon't go front door\\nand...  \n",
       "\n",
       "[397 rows x 4 columns]"
      ]
     },
     "execution_count": 124,
     "metadata": {},
     "output_type": "execute_result"
    }
   ],
   "source": [
    "tracks = pd.read_csv(\"data/tracks.csv\",index_col=0)\n",
    "tracks.dropna(inplace=True)\n",
    "tracks.reset_index(inplace=True)\n",
    "del tracks[\"index\"]\n",
    "\n",
    "# Stemming words and removing stop words\n",
    "nltk.download('stopwords')\n",
    "stopWords = stopwords.words('english')\n",
    "stemmer = PorterStemmer()\n",
    "\n",
    "# Function to stem lyrics\n",
    "def stemLyrics(stop_words):\n",
    "    stemmedLyricsList = []\n",
    "    for lyrics in tracks['lyrics']:\n",
    "        lyricsList = lyrics.split(\" \")\n",
    "        stemmedLyrics = [stemmer.stem(word) for word in lyricsList if word.lower() not in stop_words]\n",
    "        stemmedLyrics = ' '.join(stemmedLyrics)\n",
    "        stemmedLyricsList.append(stemmedLyrics)\n",
    "    return stemmedLyricsList\n",
    "\n",
    "stemmedLyrics = stemLyrics(stopWords)\n",
    "tracks = tracks.assign(stemmed_lyrics=stemmedLyrics)\n",
    "tracks"
   ]
  },
  {
   "cell_type": "markdown",
   "metadata": {},
   "source": [
    "## Define Input Features and Output Classes\n",
    "\n",
    "Next, we define our input features and output classes. This will be our stemmed lyrics and the explicit flag for each song."
   ]
  },
  {
   "cell_type": "code",
   "execution_count": 125,
   "metadata": {},
   "outputs": [],
   "source": [
    "# Define Input Features and Output Classes\n",
    "X = tracks['stemmed_lyrics']\n",
    "y = tracks['explicit']"
   ]
  },
  {
   "cell_type": "markdown",
   "metadata": {},
   "source": [
    "Now, we make a function for our Naive Bayes Classifier"
   ]
  },
  {
   "cell_type": "code",
   "execution_count": 126,
   "metadata": {},
   "outputs": [],
   "source": [
    "# Naive Bayes Classifier Function\n",
    "\n",
    "def naive_bayes(X,y, printMetrics=True, showConfusionMatrix=False):\n",
    "    # Getting training and testing X and y\n",
    "    # Convert text to numerical features\n",
    "    vectorizer = CountVectorizer()\n",
    "    Xvec = vectorizer.fit_transform(X)\n",
    "\n",
    "    # Split into training and testing\n",
    "    trainX, testX, trainY, testY = train_test_split(Xvec,y)\n",
    "\n",
    "    # Train the classifier\n",
    "    classifier = MultinomialNB()\n",
    "    classifier.fit(trainX,trainY)\n",
    "\n",
    "    # Predict the test data\n",
    "    predictY = classifier.predict(testX)\n",
    "\n",
    "    # Get metrics for classifier (precision, recall, fscore, support)\n",
    "    metrics = {}\n",
    "    p,r,f,s = precision_recall_fscore_support(testY,predictY)\n",
    "\n",
    "    metrics[\"precision\"] = p\n",
    "    metrics[\"recall\"] = r\n",
    "    metrics[\"f-score\"] = f\n",
    "    metrics[\"support\"] = s\n",
    "\n",
    "    if printMetrics:\n",
    "        for metric in metrics.keys():\n",
    "            print(f\"{metric}: {metrics[metric]}\")\n",
    "\n",
    "    # Plot confusion matrix\n",
    "    if showConfusionMatrix:\n",
    "        labels = [\"Not Explicit\", \"Explicit\"]\n",
    "        confusionMatrix = confusion_matrix(predictY,testY)\n",
    "        display = ConfusionMatrixDisplay(confusion_matrix=confusionMatrix, display_labels=labels)\n",
    "        display.plot()\n",
    "\n",
    "    return classifier, metrics"
   ]
  },
  {
   "cell_type": "markdown",
   "metadata": {},
   "source": [
    "Run the function to obtain the classifier and the metrics"
   ]
  },
  {
   "cell_type": "code",
   "execution_count": 127,
   "metadata": {},
   "outputs": [
    {
     "name": "stdout",
     "output_type": "stream",
     "text": [
      "precision: [0.84848485 0.70588235]\n",
      "recall: [0.84848485 0.70588235]\n",
      "f-score: [0.84848485 0.70588235]\n",
      "support: [66 34]\n"
     ]
    },
    {
     "data": {
      "image/png": "[encoded data removed]",
      "text/plain": [
       "<Figure size 640x480 with 2 Axes>"
      ]
     },
     "metadata": {},
     "output_type": "display_data"
    }
   ],
   "source": [
    "# Run naive bayes function\n",
    "classifier, metrics = naive_bayes(X,y,showConfusionMatrix=True)"
   ]
  },
  {
   "cell_type": "markdown",
   "metadata": {},
   "source": [
    "## Cross-Validation\n",
    "\n",
    "To see how well our classifier performs, use 10-fold cross validation:"
   ]
  },
  {
   "cell_type": "code",
   "execution_count": 128,
   "metadata": {},
   "outputs": [
    {
     "name": "stdout",
     "output_type": "stream",
     "text": [
      "average precision: [0.85027988 0.81427388]\n",
      "average recall: [0.9110725  0.70333614]\n",
      "average f-score: [0.8794082  0.75380204]\n",
      "average support: [65.1 34.9]\n"
     ]
    }
   ],
   "source": [
    "# Function which does k-fold cross validation\n",
    "def kFoldCrossValidation(X,y,kValue):\n",
    "    kfold = KFold(kValue,shuffle=True)\n",
    "    metrics_averages = {\"precision\": 0, \"recall\": 0, \"f-score\": 0, \"support\": 0}\n",
    "    for train, test in kfold.split(X,y):\n",
    "        classifier, metrics = naive_bayes(X,y,printMetrics=False)\n",
    "        for metric in metrics.keys():\n",
    "            metrics_averages[metric] += metrics[metric]\n",
    "    for metric in metrics_averages.keys():\n",
    "        metrics_averages[metric] = metrics_averages[metric]/kValue\n",
    "\n",
    "    for metric in metrics.keys():\n",
    "        print(f\"average {metric}: {metrics_averages[metric]}\")\n",
    "    return metrics_averages\n",
    "\n",
    "metrics_averages = kFoldCrossValidation(X,y,10)"
   ]
  },
  {
   "cell_type": "markdown",
   "metadata": {},
   "source": [
    "# Prediction of Explicit without \"Bad Words\"\n",
    "\n",
    "Can a naive bayes classifier predict whether a song is explicit without being supplied the \"bad words\" in a song?\n",
    "\n",
    "First, we add \"bad words\" to stop words. Then, supply new stemmed data to naive bayes."
   ]
  },
  {
   "cell_type": "code",
   "execution_count": 129,
   "metadata": {},
   "outputs": [
    {
     "data": {
      "text/html": [
       "<div>\n",
       "<style scoped>\n",
       "    .dataframe tbody tr th:only-of-type {\n",
       "        vertical-align: middle;\n",
       "    }\n",
       "\n",
       "    .dataframe tbody tr th {\n",
       "        vertical-align: top;\n",
       "    }\n",
       "\n",
       "    .dataframe thead th {\n",
       "        text-align: right;\n",
       "    }\n",
       "</style>\n",
       "<table border=\"1\" class=\"dataframe\">\n",
       "  <thead>\n",
       "    <tr style=\"text-align: right;\">\n",
       "      <th></th>\n",
       "      <th>id</th>\n",
       "      <th>lyrics</th>\n",
       "      <th>explicit</th>\n",
       "      <th>stemmed_lyrics</th>\n",
       "      <th>stemmed_no_swears</th>\n",
       "    </tr>\n",
       "  </thead>\n",
       "  <tbody>\n",
       "    <tr>\n",
       "      <th>0</th>\n",
       "      <td>272451645</td>\n",
       "      <td>For a while there, it was rough\\nBut lately, I...</td>\n",
       "      <td>0</td>\n",
       "      <td>there, rough\\nbut lately, i'v doin' better\\nth...</td>\n",
       "      <td>there, rough\\nbut lately, i'v doin' better\\nth...</td>\n",
       "    </tr>\n",
       "    <tr>\n",
       "      <th>1</th>\n",
       "      <td>275242628</td>\n",
       "      <td>This ain't Texas (ooh)\\nAin't no hold 'em (hey...</td>\n",
       "      <td>1</td>\n",
       "      <td>ain't texa (ooh)\\nain't hold 'em (hey)\\nso lay...</td>\n",
       "      <td>ain't texa (ooh)\\nain't hold 'em (hey)\\nso lay...</td>\n",
       "    </tr>\n",
       "    <tr>\n",
       "      <th>2</th>\n",
       "      <td>276929882</td>\n",
       "      <td>I always wake up in the deep end\\nWhy do I do ...</td>\n",
       "      <td>0</td>\n",
       "      <td>alway wake deep end\\nwhi everi weekend?\\ni gue...</td>\n",
       "      <td>alway wake deep end\\nwhi everi weekend?\\ni gue...</td>\n",
       "    </tr>\n",
       "    <tr>\n",
       "      <th>3</th>\n",
       "      <td>258292930</td>\n",
       "      <td>Something's got a hold of me lately\\nNo, I don...</td>\n",
       "      <td>0</td>\n",
       "      <td>something' got hold lately\\nno, know anymore\\n...</td>\n",
       "      <td>something' got hold lately\\nno, know anymore\\n...</td>\n",
       "    </tr>\n",
       "    <tr>\n",
       "      <th>4</th>\n",
       "      <td>277189732</td>\n",
       "      <td>I am not Republican, I am not a Liberal\\nWhy t...</td>\n",
       "      <td>1</td>\n",
       "      <td>republican, liberal\\nwhi hell can't american w...</td>\n",
       "      <td>republican, liberal\\nwhi hell can't american w...</td>\n",
       "    </tr>\n",
       "    <tr>\n",
       "      <th>...</th>\n",
       "      <td>...</td>\n",
       "      <td>...</td>\n",
       "      <td>...</td>\n",
       "      <td>...</td>\n",
       "      <td>...</td>\n",
       "    </tr>\n",
       "    <tr>\n",
       "      <th>392</th>\n",
       "      <td>277509246</td>\n",
       "      <td>Твоей тупизне нет предела\\nПасть лучше закрой\\...</td>\n",
       "      <td>1</td>\n",
       "      <td>твоей тупизне нет предела\\nпасть лучше закрой\\...</td>\n",
       "      <td>твоей тупизне нет предела\\nпасть лучше закрой\\...</td>\n",
       "    </tr>\n",
       "    <tr>\n",
       "      <th>393</th>\n",
       "      <td>236196962</td>\n",
       "      <td>I can still remember me and Miss November Rain...</td>\n",
       "      <td>0</td>\n",
       "      <td>still rememb miss novemb rain\\nbeauti strange\\...</td>\n",
       "      <td>still rememb miss novemb rain\\nbeauti strange\\...</td>\n",
       "    </tr>\n",
       "    <tr>\n",
       "      <th>394</th>\n",
       "      <td>276902997</td>\n",
       "      <td>Tell me the words I've forgotten\\nWhat we were...</td>\n",
       "      <td>0</td>\n",
       "      <td>tell word i'v forgotten\\nwhat fight for\\nstar ...</td>\n",
       "      <td>tell word i'v forgotten\\nwhat fight for\\nstar ...</td>\n",
       "    </tr>\n",
       "    <tr>\n",
       "      <th>395</th>\n",
       "      <td>261256425</td>\n",
       "      <td>I was sweet 'til you left me on my knees\\nTook...</td>\n",
       "      <td>1</td>\n",
       "      <td>sweet 'til left knees\\ntook honey, made b (bad...</td>\n",
       "      <td>sweet 'til left knees\\ntook honey, made b (bad...</td>\n",
       "    </tr>\n",
       "    <tr>\n",
       "      <th>396</th>\n",
       "      <td>258292911</td>\n",
       "      <td>My spare time and my spare key\\nDon't go to yo...</td>\n",
       "      <td>0</td>\n",
       "      <td>spare time spare key\\ndon't go front door\\nand...</td>\n",
       "      <td>spare time spare key\\ndon't go front door\\nand...</td>\n",
       "    </tr>\n",
       "  </tbody>\n",
       "</table>\n",
       "<p>397 rows × 5 columns</p>\n",
       "</div>"
      ],
      "text/plain": [
       "            id                                             lyrics  explicit  \\\n",
       "0    272451645  For a while there, it was rough\\nBut lately, I...         0   \n",
       "1    275242628  This ain't Texas (ooh)\\nAin't no hold 'em (hey...         1   \n",
       "2    276929882  I always wake up in the deep end\\nWhy do I do ...         0   \n",
       "3    258292930  Something's got a hold of me lately\\nNo, I don...         0   \n",
       "4    277189732  I am not Republican, I am not a Liberal\\nWhy t...         1   \n",
       "..         ...                                                ...       ...   \n",
       "392  277509246  Твоей тупизне нет предела\\nПасть лучше закрой\\...         1   \n",
       "393  236196962  I can still remember me and Miss November Rain...         0   \n",
       "394  276902997  Tell me the words I've forgotten\\nWhat we were...         0   \n",
       "395  261256425  I was sweet 'til you left me on my knees\\nTook...         1   \n",
       "396  258292911  My spare time and my spare key\\nDon't go to yo...         0   \n",
       "\n",
       "                                        stemmed_lyrics  \\\n",
       "0    there, rough\\nbut lately, i'v doin' better\\nth...   \n",
       "1    ain't texa (ooh)\\nain't hold 'em (hey)\\nso lay...   \n",
       "2    alway wake deep end\\nwhi everi weekend?\\ni gue...   \n",
       "3    something' got hold lately\\nno, know anymore\\n...   \n",
       "4    republican, liberal\\nwhi hell can't american w...   \n",
       "..                                                 ...   \n",
       "392  твоей тупизне нет предела\\nпасть лучше закрой\\...   \n",
       "393  still rememb miss novemb rain\\nbeauti strange\\...   \n",
       "394  tell word i'v forgotten\\nwhat fight for\\nstar ...   \n",
       "395  sweet 'til left knees\\ntook honey, made b (bad...   \n",
       "396  spare time spare key\\ndon't go front door\\nand...   \n",
       "\n",
       "                                     stemmed_no_swears  \n",
       "0    there, rough\\nbut lately, i'v doin' better\\nth...  \n",
       "1    ain't texa (ooh)\\nain't hold 'em (hey)\\nso lay...  \n",
       "2    alway wake deep end\\nwhi everi weekend?\\ni gue...  \n",
       "3    something' got hold lately\\nno, know anymore\\n...  \n",
       "4    republican, liberal\\nwhi hell can't american w...  \n",
       "..                                                 ...  \n",
       "392  твоей тупизне нет предела\\nпасть лучше закрой\\...  \n",
       "393  still rememb miss novemb rain\\nbeauti strange\\...  \n",
       "394  tell word i'v forgotten\\nwhat fight for\\nstar ...  \n",
       "395  sweet 'til left knees\\ntook honey, made b (bad...  \n",
       "396  spare time spare key\\ndon't go front door\\nand...  \n",
       "\n",
       "[397 rows x 5 columns]"
      ]
     },
     "execution_count": 129,
     "metadata": {},
     "output_type": "execute_result"
    }
   ],
   "source": [
    "# Add bad words to stop words\n",
    "badWords = ['bitch','fuck','shit','dick', 'ass', 'pussy']\n",
    "for word in badWords:\n",
    "    stopWords.append(word)\n",
    "# Use stemLyrics function defined earlier\n",
    "# To filter stop words and stem lyrics\n",
    "stemmedLyrics = stemLyrics(stopWords)\n",
    "tracks = tracks.assign(stemmed_no_swears=stemmedLyrics)\n",
    "tracks"
   ]
  },
  {
   "cell_type": "markdown",
   "metadata": {},
   "source": [
    "Define input and output:"
   ]
  },
  {
   "cell_type": "code",
   "execution_count": 130,
   "metadata": {},
   "outputs": [],
   "source": [
    "# Define X and y:\n",
    "X = tracks['stemmed_no_swears']\n",
    "y = tracks['explicit']"
   ]
  },
  {
   "cell_type": "markdown",
   "metadata": {},
   "source": [
    "Supply to naive bayes:"
   ]
  },
  {
   "cell_type": "code",
   "execution_count": 131,
   "metadata": {},
   "outputs": [
    {
     "name": "stdout",
     "output_type": "stream",
     "text": [
      "precision: [0.82857143 0.9       ]\n",
      "recall: [0.95081967 0.69230769]\n",
      "f-score: [0.88549618 0.7826087 ]\n",
      "support: [61 39]\n"
     ]
    },
    {
     "data": {
      "image/png": "[encoded data removed]",
      "text/plain": [
       "<Figure size 640x480 with 2 Axes>"
      ]
     },
     "metadata": {},
     "output_type": "display_data"
    }
   ],
   "source": [
    "classifier, metrics = naive_bayes(X,y,printMetrics=True, showConfusionMatrix=True)"
   ]
  },
  {
   "cell_type": "markdown",
   "metadata": {},
   "source": [
    "Now, use 10 fold cross validation to see how our model did:"
   ]
  },
  {
   "cell_type": "code",
   "execution_count": 132,
   "metadata": {},
   "outputs": [
    {
     "name": "stdout",
     "output_type": "stream",
     "text": [
      "average precision: [0.87316492 0.82259057]\n",
      "average recall: [0.91457716 0.73917302]\n",
      "average f-score: [0.89205151 0.77327922]\n",
      "average support: [66. 34.]\n"
     ]
    }
   ],
   "source": [
    "metrics_averages = kFoldCrossValidation(X,y,10)"
   ]
  }
 ],
 "metadata": {
  "kernelspec": {
   "display_name": "Python 3",
   "language": "python",
   "name": "python3"
  },
  "language_info": {
   "codemirror_mode": {
    "name": "ipython",
    "version": 3
   },
   "file_extension": ".py",
   "mimetype": "text/x-python",
   "name": "python",
   "nbconvert_exporter": "python",
   "pygments_lexer": "ipython3",
   "version": "3.11.0"
  }
 },
 "nbformat": 4,
 "nbformat_minor": 2
}
