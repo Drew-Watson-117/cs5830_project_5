{
 "cells": [
  {
   "cell_type": "code",
   "execution_count": null,
   "metadata": {},
   "outputs": [],
   "source": [
    "from musixmatch import Musixmatch\n",
    "import pandas as pd\n",
    "import numpy as np\n",
    "API_KEY = '0af4262e48632a40885bea21564b1f84'\n",
    "\n",
    "musixmatch = Musixmatch(API_KEY)"
   ]
  },
  {
   "cell_type": "code",
   "execution_count": null,
   "metadata": {},
   "outputs": [],
   "source": [
    "data = pd.read_csv(\"data/tracks.csv\", index_col=0)\n",
    "# Adjust country code to get new data\n",
    "country_code = 'ge'\n",
    "chart_tracks = musixmatch.chart_tracks_get(page=1, page_size=100, f_has_lyrics=True, country=country_code)\n",
    "chart_tracks = chart_tracks[\"message\"][\"body\"][\"track_list\"]\n",
    "\n",
    "chart_tracks\n",
    "\n",
    "new_data = pd.DataFrame()\n",
    "ids = []\n",
    "all_lyrics = []\n",
    "all_explicit = []\n",
    "for track in chart_tracks:\n",
    "    track_id = track[\"track\"][\"track_id\"]\n",
    "    # Get lyrics\n",
    "    track_lyrics = musixmatch.track_lyrics_get(track_id=track_id)\n",
    "    lyrics = track_lyrics['message']['body']['lyrics']['lyrics_body']\n",
    "    isExplicit = track_lyrics['message']['body']['lyrics']['explicit']\n",
    "    ids.append(track_id)\n",
    "    all_lyrics.append(lyrics)\n",
    "    all_explicit.append(isExplicit)\n",
    "new_data['id'] = np.array(ids)\n",
    "new_data['lyrics'] = np.array(all_lyrics)\n",
    "new_data['explicit'] = np.array(all_explicit)\n",
    "# Concat new data to existing data\n",
    "data = pd.concat([data, new_data], ignore_index=True)\n",
    "# Write to csv\n",
    "data.drop_duplicates(inplace=True)\n",
    "# del data['Unnamed: 0']\n",
    "data"
   ]
  },
  {
   "cell_type": "code",
   "execution_count": null,
   "metadata": {},
   "outputs": [],
   "source": [
    "data.to_csv(\"data/new_tracks.csv\")\n"
   ]
  }
 ],
 "metadata": {
  "kernelspec": {
   "display_name": "Python 3",
   "language": "python",
   "name": "python3"
  },
  "language_info": {
   "codemirror_mode": {
    "name": "ipython",
    "version": 3
   },
   "file_extension": ".py",
   "mimetype": "text/x-python",
   "name": "python",
   "nbconvert_exporter": "python",
   "pygments_lexer": "ipython3",
   "version": "3.11.0"
  }
 },
 "nbformat": 4,
 "nbformat_minor": 2
}
